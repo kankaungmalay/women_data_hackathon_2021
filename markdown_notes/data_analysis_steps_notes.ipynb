{
 "cells": [
  {
   "cell_type": "markdown",
   "id": "6ee32d68",
   "metadata": {},
   "source": [
    "# Data analysis \n",
    "__is the process of collecting, modeling, and analyzing data to extract insights that support decision-making. "
   ]
  },
  {
   "cell_type": "markdown",
   "id": "83b07186",
   "metadata": {},
   "source": [
    "## Quantitative  \n",
    "\n",
    "- **numeric**, or data that can be easily “converted” into numbers without losing any meaning. \n",
    "\n",
    "    - discrete(eg; 1, 2) or  \n",
    "\n",
    "    - continuous(eg; age, weight like 3.5 yrs, 5.2\" .. could be decimal) \n",
    "\n",
    "    - categorial (eg; gender), can be converted to numbers like 0 or 1 without losing meaning "
   ]
  },
  {
   "cell_type": "markdown",
   "id": "46c6bad6",
   "metadata": {},
   "source": [
    "### Two types of Quantitative analysis \n",
    "\n",
    "- **Descriptive** statistics(sample), to investigate the samples \n",
    "\n",
    "- **Inferential** statistics (population), to draw conclusions about the entire population\t "
   ]
  },
  {
   "cell_type": "markdown",
   "id": "0930f403",
   "metadata": {},
   "source": [
    "## Qualitative \n",
    "\n",
    "- Described, explained and characterized the data using words (, phrases and expressions that can’t be reduced to numbers) than numbers \n",
    "\n",
    "- Define problems or generate new ideas \n",
    "\n",
    "- Can be used to analyze people’s perceptions and feelings about an event or situation. "
   ]
  },
  {
   "cell_type": "markdown",
   "id": "a8d1fb0f",
   "metadata": {},
   "source": [
    "## Choose the right analysis method "
   ]
  },
  {
   "cell_type": "markdown",
   "id": "a8649a7f",
   "metadata": {},
   "source": [
    "## Descriptive/summary analysis\n",
    "What happened? \n",
    "\n",
    "Common statistical tests used in this analysis __ \n",
    "\n",
    "- Mean \n",
    "- Median \n",
    "- Mode \n",
    "- Standard deviation \n",
    "- Skewness "
   ]
  },
  {
   "cell_type": "markdown",
   "id": "eeefdc2a",
   "metadata": {},
   "source": [
    "## Inferential Statistics \n",
    "to make predictions in the **full population**\n",
    "\n",
    "Common statistical tests used in this analysis __ \n",
    "\n",
    "- T-Tests \n",
    "- ANOVA \n",
    "- Correlation analysis \n",
    "- Regression analysis "
   ]
  },
  {
   "cell_type": "markdown",
   "id": "66c36ca2",
   "metadata": {},
   "source": [
    "## Exploratory analysis \n",
    "How to explore data relationships. "
   ]
  },
  {
   "cell_type": "markdown",
   "id": "ec2f3e20",
   "metadata": {},
   "source": [
    "## Diagnostic analysis \n",
    "Why it happened"
   ]
  },
  {
   "cell_type": "markdown",
   "id": "75b36228",
   "metadata": {},
   "source": [
    "## Predictive analysis \n",
    "What will happen? "
   ]
  },
  {
   "cell_type": "markdown",
   "id": "f36d57fa",
   "metadata": {},
   "source": [
    "## Prescriptive analysis \n",
    "How will it happen? "
   ]
  },
  {
   "cell_type": "code",
   "execution_count": null,
   "id": "eb7b0068",
   "metadata": {},
   "outputs": [],
   "source": []
  }
 ],
 "metadata": {
  "kernelspec": {
   "display_name": "Python 3 (ipykernel)",
   "language": "python",
   "name": "python3"
  },
  "language_info": {
   "codemirror_mode": {
    "name": "ipython",
    "version": 3
   },
   "file_extension": ".py",
   "mimetype": "text/x-python",
   "name": "python",
   "nbconvert_exporter": "python",
   "pygments_lexer": "ipython3",
   "version": "3.9.7"
  }
 },
 "nbformat": 4,
 "nbformat_minor": 5
}
